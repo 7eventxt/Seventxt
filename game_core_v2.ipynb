{
 "cells": [
  {
   "cell_type": "code",
   "execution_count": null,
   "metadata": {},
   "outputs": [],
   "source": [
    "def game_core_v2(number):\n",
    "    '''Сначала устанавливаем любое random число, а потом диапазон в котором находится задуманное число, \n",
    "        делим пополам и выясняем в какой половине находится это число. \n",
    "        Функция принимает загаданное число и возвращает число попыток'''\n",
    "    '''Определяем нижнюю и верхнею границу диапазона'''\n",
    "    high = 100\n",
    "    low = 1\n",
    "    count = 1\n",
    "    predict = np.random.randint(1, 101)\n",
    "\n",
    "    while predict != number:\n",
    "        count += 1\n",
    "        if predict > number:\n",
    "            high = predict\n",
    "        elif predict < number:\n",
    "            low = predict + 1\n",
    "        predict = (high + low) // 2  # Вычисляем новое значение угадываемого числа в новых границах\n",
    "    return (count) # выход из цикла, если угадали\n",
    "\n",
    "\n",
    "# Проверяем\n",
    "score_game(game_core_v2)"
   ]
  }
 ],
 "metadata": {
  "kernelspec": {
   "display_name": "Python 3",
   "language": "python",
   "name": "python3"
  },
  "language_info": {
   "codemirror_mode": {
    "name": "ipython",
    "version": 3
   },
   "file_extension": ".py",
   "mimetype": "text/x-python",
   "name": "python",
   "nbconvert_exporter": "python",
   "pygments_lexer": "ipython3",
   "version": "3.8.5"
  }
 },
 "nbformat": 4,
 "nbformat_minor": 4
}
